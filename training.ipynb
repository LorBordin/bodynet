{
 "cells": [
  {
   "cell_type": "code",
   "execution_count": 8,
   "metadata": {},
   "outputs": [],
   "source": [
    "import matplotlib.pyplot as plt\n",
    "from imutils import paths\n",
    "import tensorflow as tf\n",
    "import numpy as np\n",
    "import cv2\n",
    "import os\n",
    "\n",
    "from bodypose.training.preprocessing import load_TFRecords_dataset  \n",
    "from bodypose.training.architecture import MoveNet\n",
    "import config as cfg"
   ]
  },
  {
   "cell_type": "code",
   "execution_count": 17,
   "metadata": {},
   "outputs": [],
   "source": [
    "INPUT_SHAPE = (224, 224, 3)\n",
    "STRIDES = (32, 16, 8, 4)\n",
    "NUM_KPTS = cfg.N_KPTS\n",
    "\n",
    "GRID_SIZE = INPUT_SHAPE[0] // STRIDES[-1]\n"
   ]
  },
  {
   "cell_type": "code",
   "execution_count": 6,
   "metadata": {},
   "outputs": [
    {
     "name": "stdout",
     "output_type": "stream",
     "text": [
      "[INFO] Found 10 TFRecords.\n"
     ]
    }
   ],
   "source": [
    "from matplotlib.pyplot import grid\n",
    "\n",
    "\n",
    "filePaths = list(paths.list_files(\"./dataset/tfrecords/coco/validation\"))\n",
    "np.random.shuffle(filePaths)\n",
    "print(f\"[INFO] Found {len(filePaths)} TFRecords.\")\n",
    "\n",
    "train_paths = filePaths[:-2]\n",
    "valid_path = filePaths[-2:]\n",
    "\n",
    "train_ds = load_TFRecords_dataset(\n",
    "    train_paths, \n",
    "    batch_size = 32,\n",
    "    target_size = INPUT_SHAPE[:2],\n",
    "    grid_dim = GRID_SIZE,\n",
    "    augmentations = [],\n",
    "    roi_thresh = 0.0\n",
    "    )\n",
    "\n",
    "val_ds = load_TFRecords_dataset(\n",
    "    train_paths, \n",
    "    batch_size = 32,\n",
    "    target_size = INPUT_SHAPE[:2],\n",
    "    grid_dim = GRID_SIZE,\n",
    "    augmentations = [],\n",
    "    roi_thresh = 0.0\n",
    "    )"
   ]
  },
  {
   "cell_type": "code",
   "execution_count": 11,
   "metadata": {},
   "outputs": [
    {
     "name": "stdout",
     "output_type": "stream",
     "text": [
      "(None, 56, 56, 17)\n",
      "119 ms ± 2.64 ms per loop (mean ± std. dev. of 7 runs, 1 loop each)\n"
     ]
    }
   ],
   "source": [
    "\n",
    "model = MoveNet(\n",
    "    input_shape = INPUT_SHAPE, \n",
    "    strides = STRIDES, \n",
    "    num_joints = NUM_KPTS, \n",
    "    alpha = .25, \n",
    "    use_depthwise = True\n",
    "    )\n",
    "\n",
    "img = (np.random.uniform(\n",
    "    0, 255, (1,) + INPUT_SHAPE\n",
    "    ).astype(\"uint8\") / 255).astype(np.float32)\n",
    "\n",
    "%timeit model(img)\n"
   ]
  },
  {
   "cell_type": "code",
   "execution_count": 12,
   "metadata": {},
   "outputs": [
    {
     "name": "stdout",
     "output_type": "stream",
     "text": [
      "Model: \"move_net_1\"\n",
      "_________________________________________________________________\n",
      " Layer (type)                Output Shape              Param #   \n",
      "=================================================================\n",
      " backbone (Functional)       [(None, 7, 7, 1280),      248768    \n",
      "                              (None, 14, 14, 144),               \n",
      "                              (None, 28, 28, 48),                \n",
      "                              (None, 56, 56, 48)]                \n",
      "                                                                 \n",
      " FPN (Functional)            (None, 56, 56, 32)        49280     \n",
      "                                                                 \n",
      " head (Functional)           [(None, 56, 56, 1),       16342     \n",
      "                              (None, 56, 56, 34),                \n",
      "                              (None, 56, 56, 17),                \n",
      "                              (None, 56, 56, 34)]                \n",
      "                                                                 \n",
      " post_processing (Functional  [(None, 17, 5),          0         \n",
      " )                            (None, 3136, 18),                  \n",
      "                              (None, 3136, 18)]                  \n",
      "                                                                 \n",
      "=================================================================\n",
      "Total params: 314,390\n",
      "Trainable params: 302,966\n",
      "Non-trainable params: 11,424\n",
      "_________________________________________________________________\n"
     ]
    }
   ],
   "source": [
    "model.summary()"
   ]
  },
  {
   "cell_type": "code",
   "execution_count": 13,
   "metadata": {},
   "outputs": [
    {
     "data": {
      "text/plain": [
       "56.0"
      ]
     },
     "execution_count": 13,
     "metadata": {},
     "output_type": "execute_result"
    }
   ],
   "source": [
    "224/4\n"
   ]
  },
  {
   "cell_type": "code",
   "execution_count": null,
   "metadata": {},
   "outputs": [],
   "source": []
  }
 ],
 "metadata": {
  "kernelspec": {
   "display_name": "Python 3.8.12 ('tecnobody')",
   "language": "python",
   "name": "python3"
  },
  "language_info": {
   "codemirror_mode": {
    "name": "ipython",
    "version": 3
   },
   "file_extension": ".py",
   "mimetype": "text/x-python",
   "name": "python",
   "nbconvert_exporter": "python",
   "pygments_lexer": "ipython3",
   "version": "3.8.12"
  },
  "orig_nbformat": 4,
  "vscode": {
   "interpreter": {
    "hash": "e6bf254e122c73ff488b8766148b4203e9f38b207ede26a956107a11310590f5"
   }
  }
 },
 "nbformat": 4,
 "nbformat_minor": 2
}
