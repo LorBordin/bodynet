{
 "cells": [
  {
   "cell_type": "markdown",
   "id": "bb3ec986-76e7-4230-a37b-4574d08123dc",
   "metadata": {},
   "source": [
    "# COCO dataset -- Dowload and preparation\n",
    "\n",
    "## 1. Download the dataset\n",
    "### 1.1 Download and extract the annotation files\n",
    "### 1.2 Selected the images of interest and the corresponding labels\n",
    "\n",
    "## 2. Image preparation\n",
    "..."
   ]
  },
  {
   "cell_type": "markdown",
   "id": "dc097532-8667-473c-bb5d-1fd7d8011784",
   "metadata": {},
   "source": [
    "## 1. Download the dataset"
   ]
  },
  {
   "cell_type": "code",
   "execution_count": 73,
   "id": "7a825ef1-ce12-47ba-8c66-f5a68d13d8c7",
   "metadata": {},
   "outputs": [],
   "source": [
    "from imutils import paths\n",
    "import numpy as np\n",
    "import os"
   ]
  },
  {
   "cell_type": "markdown",
   "id": "56816590-0471-4424-88a2-a80bab030cbf",
   "metadata": {},
   "source": [
    "### 1.1 Download and extract the annotation files"
   ]
  },
  {
   "cell_type": "code",
   "execution_count": 2,
   "id": "8fae351c-5589-46b5-a668-c60f54789cbf",
   "metadata": {},
   "outputs": [],
   "source": [
    "url = \"http://images.cocodataset.org/annotations/annotations_trainval2014.zip\""
   ]
  },
  {
   "cell_type": "code",
   "execution_count": 4,
   "id": "c2091c28-b393-4196-9fa1-99902bd31bbd",
   "metadata": {},
   "outputs": [
    {
     "name": "stdout",
     "output_type": "stream",
     "text": [
      "--2022-09-16 11:35:34--  http://images.cocodataset.org/annotations/annotations_trainval2014.zip\n",
      "Resolving images.cocodataset.org (images.cocodataset.org)... 52.216.41.1\n",
      "Connecting to images.cocodataset.org (images.cocodataset.org)|52.216.41.1|:80... connected.\n",
      "HTTP request sent, awaiting response... 200 OK\n",
      "Length: 252872794 (241M) [application/zip]\n",
      "Saving to: ‘annotations_trainval2014.zip’\n",
      "\n",
      "inval2014.zip         1%[                    ]   4,32M   757KB/s    eta 5m 36s ^C\n"
     ]
    }
   ],
   "source": [
    "!wget $url"
   ]
  },
  {
   "cell_type": "code",
   "execution_count": 10,
   "id": "fab38add-19c4-4145-9956-efe2dc3ca5bb",
   "metadata": {},
   "outputs": [
    {
     "name": "stdout",
     "output_type": "stream",
     "text": [
      "[INFO]  Attempting to download annotations_trainval2014.zip...\n",
      "Archive:  ./annotations_trainval2014.zip\n",
      "  inflating: annotations/instances_train2014.json  \n",
      "  inflating: annotations/instances_val2014.json  \n",
      "  inflating: annotations/person_keypoints_train2014.json  \n",
      "  inflating: annotations/person_keypoints_val2014.json  \n",
      "  inflating: annotations/captions_train2014.json  \n",
      "  inflating: annotations/captions_val2014.json  \n",
      "[INFO] Annotations downloaded at ./dataset/coco//annotations.\n",
      "[INFO]  Attempting to download annotations_trainval2017.zip...\n",
      "Archive:  ./annotations_trainval2017.zip\n",
      "  inflating: annotations/instances_train2017.json  \n",
      "  inflating: annotations/instances_val2017.json  \n",
      "  inflating: annotations/captions_train2017.json  \n",
      "  inflating: annotations/captions_val2017.json  \n",
      "  inflating: annotations/person_keypoints_train2017.json  \n",
      "  inflating: annotations/person_keypoints_val2017.json  \n",
      "[INFO] Annotations downloaded at ./dataset/coco//annotations.\n"
     ]
    }
   ],
   "source": [
    "annDir = \"./dataset/coco/\"\n",
    "annFileURLs = [\"http://images.cocodataset.org/annotations/annotations_trainval2014.zip\",\n",
    "                \"http://images.cocodataset.org/annotations/annotations_trainval2017.zip\"]\n",
    "\n",
    "if not os.path.isdir(annDir):\n",
    "    os.makedirs(annDir)\n",
    "    \n",
    "def download_annotations(URL, force_download=False):\n",
    "    \n",
    "    download_ann = True\n",
    "    fileName = URL.split(os.sep)[-1]\n",
    "    dataType = fileName.split(\"_\")[-1].split(\".\")[0][-4:]  \n",
    "    zipPath = os.sep.join([\".\", fileName])\n",
    "    dstPath = os.sep.join([annDir, \"annotations\"])\n",
    "    \n",
    "    print(f\"[INFO]  Attempting to download {fileName}...\")\n",
    "    \n",
    "    if os.path.isdir(dstPath):\n",
    "        files = list(paths.list_files(annDir, contains=dataType))\n",
    "        if files:\n",
    "            download_ann = False\n",
    "            print(f\"[INFO] Annotations {dataType} already downloaded in {annDir}.\")\n",
    "    else: \n",
    "        os.makedirs(dstPath)\n",
    "    \n",
    "    if force_download:\n",
    "        download_ann = True\n",
    "        print(\"[INFO] Forcing download...\")\n",
    "        \n",
    "    if download_ann:\n",
    "        if not os.path.exists(zipPath):\n",
    "            !wget $URL\n",
    "        !unzip $zipPath \n",
    "        !mv  ./annotations/* $dstPath\n",
    "        !rm -r ./annotations\n",
    "        !rm $zipPath\n",
    "    \n",
    "    print(f\"[INFO] Annotations downloaded at {dstPath}.\")\n",
    "        \n",
    "\n",
    "for url in annFileURLs:\n",
    "    download_annotations(url)"
   ]
  },
  {
   "cell_type": "markdown",
   "id": "4824db66-f009-4cb4-bf47-df07171b18c8",
   "metadata": {},
   "source": [
    "### 1.2 Selected the images of interest and the corresponding labels\n",
    "\n",
    "We select only images containing persons. On those pics we apply the following rules: \n",
    "- Select  all keyPoints (visible and not visible) \n",
    "- Select the most centered person on the basis of the visible keyPoints \n",
    "- Check that the selected person is \"big\" enough inside the image size \n",
    "- Save the image and the corresponding keypoint "
   ]
  },
  {
   "cell_type": "code",
   "execution_count": 17,
   "id": "c157aa31-77d9-44d8-a476-5b36e870ad62",
   "metadata": {},
   "outputs": [],
   "source": [
    "from pycocotools.coco import COCO\n",
    "import matplotlib.pyplot as plt\n",
    "import skimage.io as io"
   ]
  },
  {
   "cell_type": "code",
   "execution_count": 144,
   "id": "6ab74c57-a4be-440c-885f-c21903b4a938",
   "metadata": {},
   "outputs": [],
   "source": [
    "dataDir = \"./dataset/coco/\"\n",
    "\n",
    "def select_imgs_with_persons(datatype):\n",
    "    \"\"\" \n",
    "        Selects all the images containing persons from the coco datasets.\n",
    "        \n",
    "        Params\n",
    "        ------\n",
    "        datatype: str\n",
    "            Data source. Options: 'train2014', 'val2014', 'train2017', 'val2017'.\n",
    "            \n",
    "        Returns\n",
    "        -------\n",
    "        imgs: list(dict)\n",
    "            List of dict containing the images information.\n",
    "        coco_kps: pycocotools.coco.COCO\n",
    "            Object containing all the keypoints information of the selected images.\n",
    "    \"\"\"\n",
    "    annFile = f\"{dataDir}/annotations/instances_{dataType}.json\"\n",
    "    coco_anns = COCO(annFile)\n",
    "    catIds = coco_anns.getCatIds(catNms=['person'])\n",
    "    imgIds = coco_anns.getImgIds(catIds=catIds)\n",
    "    print(f\"[INFO] Found {len(imgIds)} raw images...\")\n",
    "    \n",
    "    kptsFile = f\"{dataDir}/annotations/person_keypoints_{dataType}.json\"\n",
    "    coco_kps = COCO(kptsFile)\n",
    "    imgs = coco_anns.loadImgs(imgIds)\n",
    "    \n",
    "    return imgs, coco_kps\n",
    "\n",
    "\n",
    "def get_centre_of_mass(keypoints_list):\n",
    "    \"\"\"\n",
    "        Returns the centers of mass of a given list of keypoints.\n",
    "        \n",
    "        Params\n",
    "        ------\n",
    "        keypoints_list: np.array\n",
    "            Array of shape (# of persons, # of joints, 3) containing all the keypoints coordinates.\n",
    "        \n",
    "        Returns\n",
    "        -------\n",
    "        centers: np.array\n",
    "            Array of shape (# of persons, 2) with the coordinates of the persons centre of mass.\n",
    "    \"\"\"\n",
    "    centers = []\n",
    "    \n",
    "    for skeleton in keypoints_list:\n",
    "        vis_joints = skeleton[:,-1] == 2\n",
    "        centers.append(skeleton[vis_joints].mean(axis=0)[:2])\n",
    "    \n",
    "    centers = np.array(centers)\n",
    "    \n",
    "    return centers\n",
    "\n",
    "\n",
    "def get_most_centered_keypoints(coco_kps, imgId, img_size):\n",
    "    \"\"\"\n",
    "        Returns the keypoints coordinates of the most centered person.\n",
    "        \n",
    "        Params\n",
    "        ------\n",
    "        coco_kps: pycocotools.coco.COCO\n",
    "            Object containing all the keypoints information of the selected images.\n",
    "        imgId: str\n",
    "            Image Id.\n",
    "        img_size: tuple\n",
    "            Image height and width in pixels.\n",
    "        \n",
    "        Returns\n",
    "        -------\n",
    "        most_centered: np.array\n",
    "            Array of shape (# of joints, 3)with the coordinates of the most centered person.\n",
    "    \"\"\"\n",
    "    annIds = coco_kps.getAnnIds(imgIds=imgId, catIds=[1], iscrowd=False)\n",
    "    anns = coco_kps.loadAnns(annIds)\n",
    "    keypoints_list = []\n",
    "    \n",
    "    for ann in anns:\n",
    "\n",
    "        keypoints = np.array(ann[\"keypoints\"], dtype=np.float32).reshape(-1, 3)\n",
    "        keypoints[:,:2] = keypoints[:,:2] / img_size[::-1]\n",
    "        \n",
    "        if keypoints[:,:2].sum() == 0:\n",
    "            continue\n",
    "        \n",
    "        keypoints_list.append(keypoints)\n",
    "        \n",
    "    keypoints_list = np.array(keypoints_list)\n",
    "    centers = get_centre_of_mass(keypoints_list)\n",
    "    \n",
    "    # get most centered skeleton\n",
    "    most_centered = np.linalg.norm(centers - (.5, .5), axis=1).argmin() \n",
    "    most_centered = keypoints_list[most_centered]\n",
    "    \n",
    "    return most_centered\n",
    "    "
   ]
  },
  {
   "cell_type": "code",
   "execution_count": 145,
   "id": "c85fd144-0bce-40b2-bcd8-b15d40876056",
   "metadata": {},
   "outputs": [
    {
     "name": "stdout",
     "output_type": "stream",
     "text": [
      "loading annotations into memory...\n",
      "Done (t=0.47s)\n",
      "creating index...\n",
      "index created!\n",
      "[INFO] Found 2693 raw images...\n",
      "loading annotations into memory...\n",
      "Done (t=0.59s)\n",
      "creating index...\n",
      "index created!\n"
     ]
    },
    {
     "data": {
      "text/plain": [
       "array([[0.        , 0.        , 0.        ],\n",
       "       [0.61875   , 0.26041666, 2.        ],\n",
       "       [0.        , 0.        , 0.        ],\n",
       "       [0.678125  , 0.36666667, 2.        ],\n",
       "       [0.8328125 , 0.35833332, 2.        ],\n",
       "       [0.63125   , 0.76666665, 2.        ],\n",
       "       [0.790625  , 0.55833334, 2.        ],\n",
       "       [0.328125  , 0.7416667 , 2.        ],\n",
       "       [0.65625   , 0.5708333 , 2.        ],\n",
       "       [0.2390625 , 0.40208334, 2.        ],\n",
       "       [0.5359375 , 0.54375   , 2.        ],\n",
       "       [0.        , 0.        , 0.        ],\n",
       "       [0.6828125 , 0.83958334, 2.        ],\n",
       "       [0.3078125 , 0.86041665, 2.        ],\n",
       "       [0.4125    , 0.63125   , 1.        ],\n",
       "       [0.        , 0.        , 0.        ],\n",
       "       [0.5390625 , 0.9895833 , 1.        ]], dtype=float32)"
      ]
     },
     "execution_count": 145,
     "metadata": {},
     "output_type": "execute_result"
    }
   ],
   "source": [
    "imgs, kps = select_imgs_with_persons(\"val2017\")\n",
    "\n",
    "i = 1\n",
    "\n",
    "imgId, img_size = imgs[i][\"id\"], (imgs[i][\"height\"], imgs[i][\"width\"])\n",
    "c_keypts = get_most_centered_keypoints(kps, imgId, img_size)\n",
    "c_keypts"
   ]
  },
  {
   "cell_type": "code",
   "execution_count": null,
   "id": "af568e36-d73e-4fc3-8b72-8aef45a411c7",
   "metadata": {},
   "outputs": [],
   "source": [
    "# TODO\n",
    "# Check that the function get_most_centered_keypoints is wortking properly\n"
   ]
  }
 ],
 "metadata": {
  "kernelspec": {
   "display_name": "Python 3 (ipykernel)",
   "language": "python",
   "name": "python3"
  },
  "language_info": {
   "codemirror_mode": {
    "name": "ipython",
    "version": 3
   },
   "file_extension": ".py",
   "mimetype": "text/x-python",
   "name": "python",
   "nbconvert_exporter": "python",
   "pygments_lexer": "ipython3",
   "version": "3.8.12"
  }
 },
 "nbformat": 4,
 "nbformat_minor": 5
}
